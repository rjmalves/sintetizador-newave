{
  "cells": [
    {
      "cell_type": "markdown",
      "metadata": {},
      "source": [
        "\n# S\u00edntese dos Cen\u00e1rios\n"
      ]
    },
    {
      "cell_type": "markdown",
      "metadata": {},
      "source": [
        "Para realizar a s\u00edntese dos cen\u00e1rios de um caso do NEWAVE \u00e9 necess\u00e1rio estar em um diret\u00f3rio\nno qual est\u00e3o os principais arquivos de sa\u00edda do modelo. Em geral, as vari\u00e1veis dos cen\u00e1rios gerados\ns\u00e3o extra\u00eddos dos arquivos bin\u00e1rios energiafXXX.dat, vazaofXXX.dat, etc.\nAl\u00e9m dos arquivos dos quais s\u00e3o extra\u00eddas as vari\u00e1veis em si, s\u00e3o lidos tamb\u00e9m alguns arquivos de entrada\ndo modelo, como o `dger.dat`, `ree.dat` e `sistema.dat`. Neste contexto, basta fazer::\n\n   $ sintetizador-newave cenarios --processadores 4\n\n\n"
      ]
    },
    {
      "cell_type": "markdown",
      "metadata": {},
      "source": [
        "O sintetizador ir\u00e1 exibir o log da sua execu\u00e7\u00e3o::\n\n   >>> 2024-04-22 09:53:56,845 INFO: # Realizando s\u00edntese dos CEN\u00c1RIOS #\n   >>> 2024-07-16 17:34:18,473 INFO: Realizando s\u00edntese de ENAA_REE_FOR\n   >>> 2024-07-16 17:34:19,201 INFO: Obtendo energias forward da it. 1\n   >>> 2024-07-16 17:34:19,202 INFO: Obtendo energias forward da it. 4\n   >>> 2024-07-16 17:34:19,201 INFO: Obtendo energias forward da it. 3\n   >>> 2024-07-16 17:34:19,202 INFO: Obtendo energias forward da it. 2\n   >>> 2024-07-16 17:34:19,229 INFO: Obtendo energias forward da it. 5\n   >>> 2024-07-16 17:34:19,229 INFO: Obtendo energias forward da it. 6\n   >>> 2024-07-16 17:34:19,229 INFO: Obtendo energias forward da it. 7\n   >>> 2024-07-16 17:34:19,279 INFO: Obtendo energias forward da it. 9\n   >>> 2024-07-16 17:34:19,279 INFO: Obtendo energias forward da it. 10\n   >>> 2024-07-16 17:34:19,279 INFO: Obtendo energias forward da it. 8\n   >>> 2024-07-16 17:34:21,179 INFO: Tempo para obter energias forward: 1.99 s\n   >>> 2024-07-16 17:34:21,182 INFO: Tempo para compactacao dos dados: 0.00 s\n   >>> 2024-07-16 17:34:27,813 INFO: Tempo para calculo da MLT por REE: 6.62 s\n   >>> 2024-07-16 17:34:27,834 INFO: Tempo para exportacao dos dados: 0.01 s\n   >>> 2024-07-16 17:34:27,834 INFO: Tempo para sintese de ENAA_REE_FOR: 9.36 s\n   >>> .\n   >>> .\n   >>> .\n   >>> 2024-07-16 17:34:35,766 INFO: Realizando s\u00edntese de QINC_SIN_SF\n   >>> 2024-07-16 17:34:35,786 INFO: Tempo para exportacao dos dados: 0.00 s\n   >>> 2024-07-16 17:34:35,786 INFO: Tempo para sintese de QINC_SIN_SF: 0.02 s\n   >>> 2024-07-16 17:34:35,952 INFO: Tempo para s\u00edntese dos cen\u00e1rios: 17.50 s\n   >>> 2024-07-16 17:33:39,187 INFO: # Fim da s\u00edntese #\n\n"
      ]
    },
    {
      "cell_type": "markdown",
      "metadata": {},
      "source": [
        "Os arquivos ser\u00e3o salvos no subdiret\u00f3rio `sintese`. Para realizar o processamento,\npode ser utilizado o pr\u00f3prio `python`:\n\n"
      ]
    },
    {
      "cell_type": "code",
      "execution_count": null,
      "metadata": {
        "collapsed": false
      },
      "outputs": [],
      "source": [
        "import plotly.express as px\nimport plotly.graph_objects as go\nimport pandas as pd"
      ]
    },
    {
      "cell_type": "markdown",
      "metadata": {},
      "source": [
        "Para a s\u00edntese dos cen\u00e1rios \u00e9 produzido um arquivo com as informa\u00e7\u00f5es das s\u00ednteses\nque foram realizadas:\n\n"
      ]
    },
    {
      "cell_type": "code",
      "execution_count": null,
      "metadata": {
        "collapsed": false
      },
      "outputs": [],
      "source": [
        "metadados = pd.read_parquet(\"sintese/METADADOS_CENARIOS.parquet\")\nprint(metadados.head(10))"
      ]
    },
    {
      "cell_type": "markdown",
      "metadata": {},
      "source": [
        "Os arquivos com os nomes das s\u00ednteses de cen\u00e1rios armazenam os dados\nde todos os cen\u00e1rios gerados.\n\n"
      ]
    },
    {
      "cell_type": "code",
      "execution_count": null,
      "metadata": {
        "collapsed": false
      },
      "outputs": [],
      "source": [
        "cenarios_uhe_for = pd.read_parquet(\"sintese/QINC_UHE_FOR.parquet\")\ncenarios_ree_sf = pd.read_parquet(\"sintese/ENAA_REE_SF.parquet\")\ncenarios_sin_bkw = pd.read_parquet(\"sintese/ENAA_SIN_BKW.parquet\")"
      ]
    },
    {
      "cell_type": "markdown",
      "metadata": {},
      "source": [
        "O formato dos dados por UHE:\n\n"
      ]
    },
    {
      "cell_type": "code",
      "execution_count": null,
      "metadata": {
        "collapsed": false
      },
      "outputs": [],
      "source": [
        "print(cenarios_uhe_for.head(10))"
      ]
    },
    {
      "cell_type": "markdown",
      "metadata": {},
      "source": [
        "Os tipos de dados da s\u00edntese de cen\u00e1rios por UHE:\n\n"
      ]
    },
    {
      "cell_type": "code",
      "execution_count": null,
      "metadata": {
        "collapsed": false
      },
      "outputs": [],
      "source": [
        "cenarios_uhe_for.dtypes"
      ]
    },
    {
      "cell_type": "markdown",
      "metadata": {},
      "source": [
        "O formato dos dados por REE:\n\n"
      ]
    },
    {
      "cell_type": "code",
      "execution_count": null,
      "metadata": {
        "collapsed": false
      },
      "outputs": [],
      "source": [
        "print(cenarios_ree_sf.head(10))"
      ]
    },
    {
      "cell_type": "markdown",
      "metadata": {},
      "source": [
        "Os tipos de dados da s\u00edntese de cen\u00e1rios por REE:\n\n"
      ]
    },
    {
      "cell_type": "code",
      "execution_count": null,
      "metadata": {
        "collapsed": false
      },
      "outputs": [],
      "source": [
        "cenarios_ree_sf.dtypes"
      ]
    },
    {
      "cell_type": "markdown",
      "metadata": {},
      "source": [
        "O formato dos dados para o SIN:\n\n"
      ]
    },
    {
      "cell_type": "code",
      "execution_count": null,
      "metadata": {
        "collapsed": false
      },
      "outputs": [],
      "source": [
        "print(cenarios_sin_bkw.head(10))"
      ]
    },
    {
      "cell_type": "markdown",
      "metadata": {},
      "source": [
        "Os tipos de dados da s\u00edntese de cen\u00e1rios para o SIN:\n\n"
      ]
    },
    {
      "cell_type": "code",
      "execution_count": null,
      "metadata": {
        "collapsed": false
      },
      "outputs": [],
      "source": [
        "cenarios_sin_bkw.dtypes"
      ]
    },
    {
      "cell_type": "markdown",
      "metadata": {},
      "source": [
        "De modo geral, os arquivos das s\u00ednteses de cen\u00e1rios sempre possuem as colunas\n`estagio`, `data_inicio`, `data_fim`, `cenario`, `valor`, `mlt` e `valor_mlt`. A depender se o arquivo \u00e9\nreferente \u00e0 etapa forward ou backward,existir\u00e1 uma coluna adicional `iteracao`. Apenas\nna etapa backward existir\u00e1 a coluna `abertura`.\n\n"
      ]
    },
    {
      "cell_type": "markdown",
      "metadata": {},
      "source": [
        "Da mesma maneira que para as demais s\u00ednteses, \u00e9 poss\u00edvel produzir visualiza\u00e7\u00f5es\ne estat\u00edsticas a partir dos arquivos gerados.\n\n"
      ]
    },
    {
      "cell_type": "code",
      "execution_count": null,
      "metadata": {
        "collapsed": false
      },
      "outputs": [],
      "source": [
        "fig = px.box(\n    cenarios_sin_bkw,\n    x=\"estagio\",\n    y=\"valor_mlt\",\n    color=\"iteracao\",\n)\nfig"
      ]
    },
    {
      "cell_type": "markdown",
      "metadata": {},
      "source": [
        "Repare que para os arquivos da s\u00edntese da opera\u00e7\u00e3o, a refer\u00eancia da numera\u00e7\u00e3o\ndos est\u00e1gios \u00e9 diferente da numera\u00e7\u00e3o dos est\u00e1gios da s\u00edntese dos cen\u00e1rios.\nNa s\u00edntese dos cen\u00e1rios, como os arquivos processados s\u00e3o os bin\u00e1rios do modelo,\no est\u00e1gio \"1\" n\u00e3o se refere necessariamente ao primeiro m\u00eas do per\u00edodo do estudo.\n\n"
      ]
    },
    {
      "cell_type": "markdown",
      "metadata": {},
      "source": [
        "Al\u00e9m dos arquivos com as s\u00ednteses dos cen\u00e1rios, est\u00e3o dispon\u00edveis tamb\u00e9m os arquivos\nque agregam estat\u00edsticas das previs\u00f5es:\n\n"
      ]
    },
    {
      "cell_type": "code",
      "execution_count": null,
      "metadata": {
        "collapsed": false
      },
      "outputs": [],
      "source": [
        "estatisticas = pd.read_parquet(\"sintese/ESTATISTICAS_CENARIOS_UHE_FOR.parquet\")\nprint(estatisticas.head(10))"
      ]
    },
    {
      "cell_type": "markdown",
      "metadata": {},
      "source": [
        "As informa\u00e7\u00f5es dos arquivos de estat\u00edsticas s\u00e3o:\n\n"
      ]
    },
    {
      "cell_type": "code",
      "execution_count": null,
      "metadata": {
        "collapsed": false
      },
      "outputs": [],
      "source": [
        "print(estatisticas.columns)"
      ]
    },
    {
      "cell_type": "markdown",
      "metadata": {},
      "source": [
        "As estat\u00edsticas dispon\u00edveis s\u00e3o os valores m\u00ednimos, m\u00e1ximos, m\u00e9dios e quantis a cada\n5 percentis para cada vari\u00e1vel de cada elemento de sistema. No caso das UHEs:\n\n"
      ]
    },
    {
      "cell_type": "code",
      "execution_count": null,
      "metadata": {
        "collapsed": false
      },
      "outputs": [],
      "source": [
        "print(estatisticas[\"cenario\"].unique())"
      ]
    }
  ],
  "metadata": {
    "kernelspec": {
      "display_name": "Python 3",
      "language": "python",
      "name": "python3"
    },
    "language_info": {
      "codemirror_mode": {
        "name": "ipython",
        "version": 3
      },
      "file_extension": ".py",
      "mimetype": "text/x-python",
      "name": "python",
      "nbconvert_exporter": "python",
      "pygments_lexer": "ipython3",
      "version": "3.12.8"
    }
  },
  "nbformat": 4,
  "nbformat_minor": 0
}