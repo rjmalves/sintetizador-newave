{
  "cells": [
    {
      "cell_type": "markdown",
      "metadata": {},
      "source": [
        "\n# S\u00edntese da Opera\u00e7\u00e3o\n"
      ]
    },
    {
      "cell_type": "markdown",
      "metadata": {},
      "source": [
        "Para realizar a s\u00edntese da opera\u00e7\u00e3o de um caso do NEWAVE \u00e9 necess\u00e1rio estar em um diret\u00f3rio\nno qual est\u00e3o os principais arquivos de sa\u00edda do modelo. Em geral, as vari\u00e1veis da opera\u00e7\u00e3o\ns\u00e3o extra\u00eddas das sa\u00eddas do programa auxiliar NWLISTOP, no modo TABELAS (op\u00e7\u00e3o 2).\nPara a s\u00edntese do CMO por submercado, por est\u00e1gio, s\u00e3o necess\u00e1rios os arquivos cmargXXX-med.out.\nPara a s\u00edntese do EARM para o SIN, \u00e9 necess\u00e1rio o earmfsin.out.\nAl\u00e9m dos arquivos dos quais s\u00e3o extra\u00eddas as vari\u00e1veis em si, s\u00e3o lidos tamb\u00e9m alguns arquivos de entrada\ndo modelo, como o `dger.dat`, `ree.dat` e `sistema.dat`. Neste contexto, basta fazer::\n\n   $ sintetizador-newave operacao --processadores 4\n\n\n"
      ]
    },
    {
      "cell_type": "markdown",
      "metadata": {},
      "source": [
        "O sintetizador ir\u00e1 exibir o log da sua execu\u00e7\u00e3o::\n\n   >>> 2024-04-22 09:53:56,845 INFO: # Realizando s\u00edntese da OPERACAO #\n   >>> .\n   >>> .\n   >>> .\n   >>> 2024-07-16 17:33:36,613 INFO: Realizando sintese de VEVAP_UHE\n   >>> 2024-07-16 17:33:36,615 INFO: Tempo para compactacao dos dados: 0.00 s\n   >>> 2024-07-16 17:33:36,616 INFO: Tempo para calculo dos limites: 0.00 s\n   >>> 2024-07-16 17:33:36,640 INFO: Tempo para armazenamento na cache: 0.00 s\n   >>> 2024-07-16 17:33:36,641 INFO: Tempo para preparacao para exportacao: 0.02 s\n   >>> 2024-07-16 17:33:36,646 INFO: Tempo para exportacao dos dados: 0.01 s\n   >>> 2024-07-16 17:33:36,647 INFO: Tempo para sintese de VEVAP_UHE: 0.03 s\n   >>> 2024-07-16 17:33:36,647 INFO: Realizando sintese de VEVAP_REE\n   >>> 2024-07-16 17:33:36,649 INFO: Tempo para compactacao dos dados: 0.00 s\n   >>> 2024-07-16 17:33:36,650 INFO: Tempo para calculo dos limites: 0.00 s\n   >>> 2024-07-16 17:33:36,676 INFO: Tempo para preparacao para exportacao: 0.03 s\n   >>> 2024-07-16 17:33:36,681 INFO: Tempo para exportacao dos dados: 0.01 s\n   >>> 2024-07-16 17:33:36,682 INFO: Tempo para sintese de VEVAP_REE: 0.03 s\n   >>> 2024-07-16 17:33:36,682 INFO: Realizando sintese de VEVAP_SBM\n   >>> 2024-07-16 17:33:36,684 INFO: Tempo para compactacao dos dados: 0.00 s\n   >>> 2024-07-16 17:33:36,684 INFO: Tempo para calculo dos limites: 0.00 s\n   >>> 2024-07-16 17:33:36,706 INFO: Tempo para preparacao para exportacao: 0.02 s\n   >>> 2024-07-16 17:33:36,711 INFO: Tempo para exportacao dos dados: 0.01 s\n   >>> 2024-07-16 17:33:36,712 INFO: Tempo para sintese de VEVAP_SBM: 0.03 s\n   >>> 2024-07-16 17:33:36,712 INFO: Realizando sintese de VEVAP_SIN\n   >>> 2024-07-16 17:33:36,714 INFO: Tempo para compactacao dos dados: 0.00 s\n   >>> 2024-07-16 17:33:36,714 INFO: Tempo para calculo dos limites: 0.00 s\n   >>> 2024-07-16 17:33:36,738 INFO: Tempo para preparacao para exportacao: 0.02 s\n   >>> 2024-07-16 17:33:36,743 INFO: Tempo para exportacao dos dados: 0.00 s\n   >>> 2024-07-16 17:33:36,743 INFO: Tempo para sintese de VEVAP_SIN: 0.03 s\n   >>> 2024-07-16 17:33:39,162 INFO: Tempo para sintese da operacao: 36.47 s\n   >>> 2024-07-16 17:33:39,187 INFO: # Fim da s\u00edntese #\n\n"
      ]
    },
    {
      "cell_type": "markdown",
      "metadata": {},
      "source": [
        "Os arquivos ser\u00e3o salvos no subdiret\u00f3rio `sintese`. Para realizar o processamento,\npode ser utilizado o pr\u00f3prio `python`:\n\n"
      ]
    },
    {
      "cell_type": "code",
      "execution_count": null,
      "metadata": {
        "collapsed": false
      },
      "outputs": [],
      "source": [
        "import plotly.express as px\nimport plotly.graph_objects as go\nimport pandas as pd"
      ]
    },
    {
      "cell_type": "markdown",
      "metadata": {},
      "source": [
        "Para a s\u00edntese da opera\u00e7\u00e3o \u00e9 produzido um arquivo com as informa\u00e7\u00f5es das s\u00ednteses\nque foram realizadas:\n\n"
      ]
    },
    {
      "cell_type": "code",
      "execution_count": null,
      "metadata": {
        "collapsed": false
      },
      "outputs": [],
      "source": [
        "metadados = pd.read_parquet(\"sintese/METADADOS_OPERACAO.parquet\")\nprint(metadados.head(10))"
      ]
    },
    {
      "cell_type": "markdown",
      "metadata": {},
      "source": [
        "Os arquivos com os nomes das s\u00ednteses de opera\u00e7\u00e3o armazenam os dados\nde todos os cen\u00e1rios simulados.\n\n"
      ]
    },
    {
      "cell_type": "code",
      "execution_count": null,
      "metadata": {
        "collapsed": false
      },
      "outputs": [],
      "source": [
        "cmo = pd.read_parquet(\"sintese/CMO_SBM.parquet\")\nearmf = pd.read_parquet(\"sintese/EARMF_SIN.parquet\")\nvarmf = pd.read_parquet(\"sintese/VARMF_UHE.parquet\")"
      ]
    },
    {
      "cell_type": "markdown",
      "metadata": {},
      "source": [
        "O formato dos dados de CMO:\n\n"
      ]
    },
    {
      "cell_type": "code",
      "execution_count": null,
      "metadata": {
        "collapsed": false
      },
      "outputs": [],
      "source": [
        "print(cmo.head(10))"
      ]
    },
    {
      "cell_type": "markdown",
      "metadata": {},
      "source": [
        "Os tipos de dados da s\u00edntese de CMO:\n\n"
      ]
    },
    {
      "cell_type": "code",
      "execution_count": null,
      "metadata": {
        "collapsed": false
      },
      "outputs": [],
      "source": [
        "cmo.dtypes"
      ]
    },
    {
      "cell_type": "markdown",
      "metadata": {},
      "source": [
        "O formato dos dados de EARMF:\n\n"
      ]
    },
    {
      "cell_type": "code",
      "execution_count": null,
      "metadata": {
        "collapsed": false
      },
      "outputs": [],
      "source": [
        "print(earmf.head(10))"
      ]
    },
    {
      "cell_type": "markdown",
      "metadata": {},
      "source": [
        "Os tipos de dados da s\u00edntese de EARMF:\n\n"
      ]
    },
    {
      "cell_type": "code",
      "execution_count": null,
      "metadata": {
        "collapsed": false
      },
      "outputs": [],
      "source": [
        "earmf.dtypes"
      ]
    },
    {
      "cell_type": "markdown",
      "metadata": {},
      "source": [
        "O formato dos dados de VARMF:\n\n"
      ]
    },
    {
      "cell_type": "code",
      "execution_count": null,
      "metadata": {
        "collapsed": false
      },
      "outputs": [],
      "source": [
        "print(varmf.head(10))"
      ]
    },
    {
      "cell_type": "markdown",
      "metadata": {},
      "source": [
        "Os tipos de dados da s\u00edntese de VARMF:\n\n"
      ]
    },
    {
      "cell_type": "code",
      "execution_count": null,
      "metadata": {
        "collapsed": false
      },
      "outputs": [],
      "source": [
        "varmf.dtypes"
      ]
    },
    {
      "cell_type": "markdown",
      "metadata": {},
      "source": [
        "De modo geral, os arquivos das s\u00ednteses de opera\u00e7\u00e3o sempre possuem as colunas\n`estagio`, `data_inicio`, `data_fim`, `cenario`, `patamar` e `valor`. A depender se o arquivo \u00e9\nrelativo a uma agrega\u00e7\u00e3o espacial diferente de todo o SIN, existir\u00e3o outras colunas adicionais para determinar\nde qual subconjunto da agrega\u00e7\u00e3o o dado pertence. Por exemplo, no arquivo da s\u00edntese de\nCMO_SBM, existe uma coluna adicional de nome `submercado`.\n\n"
      ]
    },
    {
      "cell_type": "markdown",
      "metadata": {},
      "source": [
        "A coluna de cen\u00e1rios cont\u00e9m somente inteiros de 1 a N, onde N \u00e9 o n\u00famero de s\u00e9ries da\nsimula\u00e7\u00e3o final do modelo.\n\n"
      ]
    },
    {
      "cell_type": "code",
      "execution_count": null,
      "metadata": {
        "collapsed": false
      },
      "outputs": [],
      "source": [
        "cenarios = earmf[\"cenario\"].unique().tolist()\nprint(cenarios)"
      ]
    },
    {
      "cell_type": "markdown",
      "metadata": {},
      "source": [
        "Atrav\u00e9s das estat\u00edsticas \u00e9 poss\u00edvel fazer um gr\u00e1fico de caixas, para ilustrar a dispers\u00e3o\nda vari\u00e1vel da opera\u00e7\u00e3o com os cen\u00e1rios:\n\n"
      ]
    },
    {
      "cell_type": "code",
      "execution_count": null,
      "metadata": {
        "collapsed": false
      },
      "outputs": [],
      "source": [
        "fig = px.box(earmf, x=\"data_inicio\", y=\"valor\")\nfig"
      ]
    },
    {
      "cell_type": "markdown",
      "metadata": {},
      "source": [
        "Para vari\u00e1veis da opera\u00e7\u00e3o que possuam diferentes subconjuntos, como os submercados, podem ser utilizados\ngr\u00e1ficos de violino para avalia\u00e7\u00e3o da dispers\u00e3o:\n\n"
      ]
    },
    {
      "cell_type": "code",
      "execution_count": null,
      "metadata": {
        "collapsed": false
      },
      "outputs": [],
      "source": [
        "cmos_2omes = cmo.loc[cmo[\"estagio\"] == 2]\nfig = px.violin(\n    cmos_2omes,\n    y=\"valor\",\n    color=\"codigo_submercado\",\n    box=True,\n)\nfig"
      ]
    },
    {
      "cell_type": "markdown",
      "metadata": {},
      "source": [
        "Para dados por UHE, como o n\u00famero de subconjuntos \u00e9 muito grande, \u00e9 poss\u00edvel\nfazer um subconjunto dos elementos de interesse para a visualiza\u00e7\u00e3o:\n\n"
      ]
    },
    {
      "cell_type": "code",
      "execution_count": null,
      "metadata": {
        "collapsed": false
      },
      "outputs": [],
      "source": [
        "varmf_1oano = varmf.loc[\n    (varmf[\"estagio\"] <= 12) & varmf[\"codigo_usina\"].isin([6, 169, 251, 275])\n]\nfig = px.box(\n    varmf_1oano,\n    x=\"data_inicio\",\n    y=\"valor\",\n    facet_col_wrap=2,\n    facet_col=\"codigo_usina\",\n)\nfig"
      ]
    },
    {
      "cell_type": "markdown",
      "metadata": {},
      "source": [
        "Al\u00e9m dos arquivos com as s\u00ednteses dos cen\u00e1rios, est\u00e3o dispon\u00edveis tamb\u00e9m os arquivos\nque agregam estat\u00edsticas das previs\u00f5es:\n\n"
      ]
    },
    {
      "cell_type": "code",
      "execution_count": null,
      "metadata": {
        "collapsed": false
      },
      "outputs": [],
      "source": [
        "estatisticas = pd.read_parquet(\"sintese/ESTATISTICAS_OPERACAO_UHE.parquet\")\nprint(estatisticas.head(10))"
      ]
    },
    {
      "cell_type": "markdown",
      "metadata": {},
      "source": [
        "As informa\u00e7\u00f5es dos arquivos de estat\u00edsticas s\u00e3o:\n\n"
      ]
    },
    {
      "cell_type": "code",
      "execution_count": null,
      "metadata": {
        "collapsed": false
      },
      "outputs": [],
      "source": [
        "print(estatisticas.columns)"
      ]
    },
    {
      "cell_type": "markdown",
      "metadata": {},
      "source": [
        "Um arquivo \u00fanico \u00e9 gerado para as estat\u00edsticas de todas as vari\u00e1veis, agregadas\npor cada elemento do sistema.:\n\n"
      ]
    },
    {
      "cell_type": "code",
      "execution_count": null,
      "metadata": {
        "collapsed": false
      },
      "outputs": [],
      "source": [
        "print(estatisticas[\"variavel\"].unique())"
      ]
    },
    {
      "cell_type": "markdown",
      "metadata": {},
      "source": [
        "As estat\u00edsticas dispon\u00edveis s\u00e3o os valores m\u00ednimos, m\u00e1ximos, m\u00e9dios e quantis a cada\n5 percentis para cada vari\u00e1vel de cada elemento de sistema. No caso das UHEs:\n\n"
      ]
    },
    {
      "cell_type": "code",
      "execution_count": null,
      "metadata": {
        "collapsed": false
      },
      "outputs": [],
      "source": [
        "print(estatisticas[\"cenario\"].unique())"
      ]
    }
  ],
  "metadata": {
    "kernelspec": {
      "display_name": "Python 3",
      "language": "python",
      "name": "python3"
    },
    "language_info": {
      "codemirror_mode": {
        "name": "ipython",
        "version": 3
      },
      "file_extension": ".py",
      "mimetype": "text/x-python",
      "name": "python",
      "nbconvert_exporter": "python",
      "pygments_lexer": "ipython3",
      "version": "3.12.8"
    }
  },
  "nbformat": 4,
  "nbformat_minor": 0
}